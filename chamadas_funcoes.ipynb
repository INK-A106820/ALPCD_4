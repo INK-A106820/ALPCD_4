{
 "cells": [
  {
   "cell_type": "code",
   "execution_count": null,
   "metadata": {},
   "outputs": [],
   "source": [
    "top10()\n"
   ]
  },
  {
   "cell_type": "code",
   "execution_count": null,
   "metadata": {},
   "outputs": [],
   "source": [
    "get_jobs(location='Lisbon', company='EllaLink', num_jobs=5)\n"
   ]
  },
  {
   "cell_type": "code",
   "execution_count": null,
   "metadata": {},
   "outputs": [],
   "source": [
    "\n",
    "job_id = '490686'  # Altere para o job_id desejado\n",
    "api_key = '9fa7ce317d6e85c90d92244adb9146c6'  # Substitua pela sua chave de API\n",
    "\n",
    "get_job_salary(job_id, api_key)"
   ]
  },
  {
   "cell_type": "code",
   "execution_count": null,
   "metadata": {},
   "outputs": [],
   "source": [
    "\n",
    "skills = [\"Python\", \"Django\", \"SQL\"]  # Liste as skills que você quer buscar\n",
    "data_inicial = \"2024-10-01\"  # Data inicial no formato YYYY-MM-DD\n",
    "data_final = \"2024-10-31\"  # Data final no formato YYYY-MM-DD\n",
    "\n",
    "# Chama a função e mostra o resultado no Jupyter Notebook\n",
    "resultado = buscar_trabalhos_por_skills(skills, data_inicial, data_final)\n",
    "print(resultado)"
   ]
  },
  {
   "cell_type": "code",
   "execution_count": null,
   "metadata": {},
   "outputs": [],
   "source": [
    "top10(export_csv=True)"
   ]
  },
  {
   "cell_type": "code",
   "execution_count": null,
   "metadata": {},
   "outputs": [],
   "source": [
    "get_jobs(location=\"\", company=\"\", num_jobs=5, save_to_csv=True)\n"
   ]
  },
  {
   "cell_type": "code",
   "execution_count": null,
   "metadata": {},
   "outputs": [],
   "source": [
    "buscar_trabalhos_por_skills(['Python', 'Django'], '2024-01-01', '2024-12-31', export_csv=True)"
   ]
  }
 ],
 "metadata": {
  "language_info": {
   "name": "python"
  }
 },
 "nbformat": 4,
 "nbformat_minor": 2
}
